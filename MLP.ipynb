{
  "nbformat": 4,
  "nbformat_minor": 0,
  "metadata": {
    "colab": {
      "provenance": [],
      "authorship_tag": "ABX9TyOBQF0QMgHnqygRGDJp+oVh"
    },
    "kernelspec": {
      "name": "python3",
      "display_name": "Python 3"
    },
    "language_info": {
      "name": "python"
    }
  },
  "cells": [
    {
      "cell_type": "code",
      "source": [
        "pip install medmnist"
      ],
      "metadata": {
        "colab": {
          "base_uri": "https://localhost:8080/"
        },
        "collapsed": true,
        "id": "jlCNl_vNwbOy",
        "outputId": "801946b8-feba-43c2-c321-716a6658ffbe"
      },
      "execution_count": null,
      "outputs": [
        {
          "output_type": "stream",
          "name": "stdout",
          "text": [
            "Collecting medmnist\n",
            "  Downloading medmnist-3.0.2-py3-none-any.whl.metadata (14 kB)\n",
            "Requirement already satisfied: numpy in /usr/local/lib/python3.10/dist-packages (from medmnist) (1.26.4)\n",
            "Requirement already satisfied: pandas in /usr/local/lib/python3.10/dist-packages (from medmnist) (2.2.2)\n",
            "Requirement already satisfied: scikit-learn in /usr/local/lib/python3.10/dist-packages (from medmnist) (1.5.2)\n",
            "Requirement already satisfied: scikit-image in /usr/local/lib/python3.10/dist-packages (from medmnist) (0.24.0)\n",
            "Requirement already satisfied: tqdm in /usr/local/lib/python3.10/dist-packages (from medmnist) (4.66.6)\n",
            "Requirement already satisfied: Pillow in /usr/local/lib/python3.10/dist-packages (from medmnist) (11.0.0)\n",
            "Collecting fire (from medmnist)\n",
            "  Downloading fire-0.7.0.tar.gz (87 kB)\n",
            "\u001b[2K     \u001b[90m━━━━━━━━━━━━━━━━━━━━━━━━━━━━━━━━━━━━━━━━\u001b[0m \u001b[32m87.2/87.2 kB\u001b[0m \u001b[31m3.4 MB/s\u001b[0m eta \u001b[36m0:00:00\u001b[0m\n",
            "\u001b[?25h  Preparing metadata (setup.py) ... \u001b[?25l\u001b[?25hdone\n",
            "Requirement already satisfied: torch in /usr/local/lib/python3.10/dist-packages (from medmnist) (2.5.0+cu121)\n",
            "Requirement already satisfied: torchvision in /usr/local/lib/python3.10/dist-packages (from medmnist) (0.20.0+cu121)\n",
            "Requirement already satisfied: termcolor in /usr/local/lib/python3.10/dist-packages (from fire->medmnist) (2.5.0)\n",
            "Requirement already satisfied: python-dateutil>=2.8.2 in /usr/local/lib/python3.10/dist-packages (from pandas->medmnist) (2.8.2)\n",
            "Requirement already satisfied: pytz>=2020.1 in /usr/local/lib/python3.10/dist-packages (from pandas->medmnist) (2024.2)\n",
            "Requirement already satisfied: tzdata>=2022.7 in /usr/local/lib/python3.10/dist-packages (from pandas->medmnist) (2024.2)\n",
            "Requirement already satisfied: scipy>=1.9 in /usr/local/lib/python3.10/dist-packages (from scikit-image->medmnist) (1.13.1)\n",
            "Requirement already satisfied: networkx>=2.8 in /usr/local/lib/python3.10/dist-packages (from scikit-image->medmnist) (3.4.2)\n",
            "Requirement already satisfied: imageio>=2.33 in /usr/local/lib/python3.10/dist-packages (from scikit-image->medmnist) (2.36.0)\n",
            "Requirement already satisfied: tifffile>=2022.8.12 in /usr/local/lib/python3.10/dist-packages (from scikit-image->medmnist) (2024.9.20)\n",
            "Requirement already satisfied: packaging>=21 in /usr/local/lib/python3.10/dist-packages (from scikit-image->medmnist) (24.2)\n",
            "Requirement already satisfied: lazy-loader>=0.4 in /usr/local/lib/python3.10/dist-packages (from scikit-image->medmnist) (0.4)\n",
            "Requirement already satisfied: joblib>=1.2.0 in /usr/local/lib/python3.10/dist-packages (from scikit-learn->medmnist) (1.4.2)\n",
            "Requirement already satisfied: threadpoolctl>=3.1.0 in /usr/local/lib/python3.10/dist-packages (from scikit-learn->medmnist) (3.5.0)\n",
            "Requirement already satisfied: filelock in /usr/local/lib/python3.10/dist-packages (from torch->medmnist) (3.16.1)\n",
            "Requirement already satisfied: typing-extensions>=4.8.0 in /usr/local/lib/python3.10/dist-packages (from torch->medmnist) (4.12.2)\n",
            "Requirement already satisfied: jinja2 in /usr/local/lib/python3.10/dist-packages (from torch->medmnist) (3.1.4)\n",
            "Requirement already satisfied: fsspec in /usr/local/lib/python3.10/dist-packages (from torch->medmnist) (2024.10.0)\n",
            "Requirement already satisfied: sympy==1.13.1 in /usr/local/lib/python3.10/dist-packages (from torch->medmnist) (1.13.1)\n",
            "Requirement already satisfied: mpmath<1.4,>=1.1.0 in /usr/local/lib/python3.10/dist-packages (from sympy==1.13.1->torch->medmnist) (1.3.0)\n",
            "Requirement already satisfied: six>=1.5 in /usr/local/lib/python3.10/dist-packages (from python-dateutil>=2.8.2->pandas->medmnist) (1.16.0)\n",
            "Requirement already satisfied: MarkupSafe>=2.0 in /usr/local/lib/python3.10/dist-packages (from jinja2->torch->medmnist) (3.0.2)\n",
            "Downloading medmnist-3.0.2-py3-none-any.whl (25 kB)\n",
            "Building wheels for collected packages: fire\n",
            "  Building wheel for fire (setup.py) ... \u001b[?25l\u001b[?25hdone\n",
            "  Created wheel for fire: filename=fire-0.7.0-py3-none-any.whl size=114249 sha256=ed04d2810f613eeb80f040e5f5b54a074d08dbc43e199102d85e344296b6e3be\n",
            "  Stored in directory: /root/.cache/pip/wheels/19/39/2f/2d3cadc408a8804103f1c34ddd4b9f6a93497b11fa96fe738e\n",
            "Successfully built fire\n",
            "Installing collected packages: fire, medmnist\n",
            "Successfully installed fire-0.7.0 medmnist-3.0.2\n"
          ]
        }
      ]
    },
    {
      "cell_type": "code",
      "source": [
        "from medmnist import OrganAMNIST\n",
        "import torchvision.transforms as transforms\n",
        "from torch.utils.data import DataLoader\n",
        "import torch.nn as nn\n",
        "import torch.optim as optim\n",
        "import torch.nn.functional as F\n",
        "import torch\n",
        "import numpy as np\n",
        "import matplotlib.pyplot as plt\n",
        "from tqdm import tqdm"
      ],
      "metadata": {
        "id": "_ZUF71D2wt3h"
      },
      "execution_count": null,
      "outputs": []
    },
    {
      "cell_type": "code",
      "execution_count": null,
      "metadata": {
        "colab": {
          "base_uri": "https://localhost:8080/"
        },
        "id": "C1WoiwOCvsiI",
        "outputId": "a5f52e1a-1516-46e0-df84-972434ce5ff0"
      },
      "outputs": [
        {
          "output_type": "stream",
          "name": "stdout",
          "text": [
            "Using downloaded and verified file: /root/.medmnist/organamnist.npz\n",
            "Using downloaded and verified file: /root/.medmnist/organamnist_128.npz\n",
            "Using downloaded and verified file: /root/.medmnist/organamnist.npz\n",
            "Using downloaded and verified file: /root/.medmnist/organamnist.npz\n",
            "Using downloaded and verified file: /root/.medmnist/organamnist.npz\n",
            "Using downloaded and verified file: /root/.medmnist/organamnist_128.npz\n",
            "Using downloaded and verified file: /root/.medmnist/organamnist_128.npz\n",
            "Using downloaded and verified file: /root/.medmnist/organamnist_128.npz\n",
            "train 34561\n",
            "val 6491\n",
            "test 17778\n"
          ]
        }
      ],
      "source": [
        "# some adjustable parameters\n",
        "batch_size = 64\n",
        "\n",
        "# load the training data\n",
        "train_dataset = OrganAMNIST(split=\"train\", download=True, transform=transforms.ToTensor())\n",
        "train_dataset128 = OrganAMNIST(split=\"train\", download=True, transform=transforms.ToTensor(), size=128)\n",
        "\n",
        "# normalization\n",
        "\n",
        "# mean and std for the training data\n",
        "mean = 0.0\n",
        "std = 0.0\n",
        "nb_samples = 0\n",
        "'''for image, _ in DataLoader(train_dataset, batch_size=1000):\n",
        "    mean += image.mean()\n",
        "    std += image.std()\n",
        "mean /= len(train_dataset)\n",
        "std /= len(train_dataset)'''\n",
        "\n",
        "# create DataLoader\n",
        "train_loader = DataLoader(train_dataset, batch_size=64)\n",
        "\n",
        "# batch means and stds need to be weighted by the batch size\n",
        "for images, _ in train_loader:\n",
        "    batch_samples = images.size(0)\n",
        "    images = images.view(batch_samples, images.size(1), -1)\n",
        "    mean += images.mean([0, 2]) * batch_samples\n",
        "    std += images.std([0, 2]) * batch_samples\n",
        "    nb_samples += batch_samples\n",
        "\n",
        "mean /= nb_samples\n",
        "std /= nb_samples\n",
        "\n",
        "# define the transform for normalization and to flatten the image\n",
        "transform = transforms.Compose([\n",
        "    transforms.ToTensor(),\n",
        "    transforms.Normalize(mean=[mean.item()], std=[std.item()]),\n",
        "    transforms.Lambda(lambda x: x.view(-1))  # flatten 28x28 image to 784 vector\n",
        "])\n",
        "\n",
        "# normalization 128\n",
        "\n",
        "# mean and std for the training data\n",
        "mean128 = 0.0\n",
        "std128 = 0.0\n",
        "for image, _ in DataLoader(train_dataset, batch_size=1000):\n",
        "    mean128 += image.mean()\n",
        "    std128 += image.std()\n",
        "mean128 /= len(train_dataset)\n",
        "std128 /= len(train_dataset)\n",
        "\n",
        "# define the transform for normalization and to flatten the image\n",
        "transform128 = transforms.Compose([\n",
        "    transforms.ToTensor(),\n",
        "    transforms.Normalize(mean128, std128),\n",
        "    transforms.Lambda(lambda x: x.view(-1))  # flatten\n",
        "])\n",
        "\n",
        "# load the training data with normalization\n",
        "train_dataset = OrganAMNIST(split=\"train\", download=True, transform=transform)\n",
        "val_dataset = OrganAMNIST(split=\"val\", download=True, transform=transform)\n",
        "test_dataset = OrganAMNIST(split=\"test\", download=True, transform=transform)\n",
        "\n",
        "# create the data loader object\n",
        "train_loader = DataLoader(train_dataset, batch_size=batch_size, shuffle=True)\n",
        "val_loader = DataLoader(val_dataset, batch_size=batch_size, shuffle=True)\n",
        "test_loader = DataLoader(test_dataset, batch_size=batch_size, shuffle=True)\n",
        "\n",
        "# datasets for the 128px versions\n",
        "train_dataset128 = OrganAMNIST(split=\"train\", download=True, transform=transform128, size=128)\n",
        "val_dataset128 = OrganAMNIST(split=\"val\", download=True, transform=transform128, size=128)\n",
        "test_dataset128 = OrganAMNIST(split=\"test\", download=True, transform=transform128, size=128)\n",
        "\n",
        "# create the data loader object\n",
        "train_loader128 = DataLoader(train_dataset128, batch_size=batch_size, shuffle=True)\n",
        "val_loader128 = DataLoader(val_dataset128, batch_size=batch_size, shuffle=True)\n",
        "test_loader128 = DataLoader(test_dataset128, batch_size=batch_size, shuffle=True)\n",
        "\n",
        "\n",
        "print(\"train\", len(train_loader.dataset))\n",
        "print(\"val\", len(val_loader.dataset))\n",
        "print(\"test\", len(test_loader.dataset))\n"
      ]
    },
    {
      "cell_type": "markdown",
      "source": [
        "# MLP Implimentation"
      ],
      "metadata": {
        "id": "m4vQeL_eb174"
      }
    },
    {
      "cell_type": "markdown",
      "source": [
        "Activation Functions"
      ],
      "metadata": {
        "id": "uf3PKctwhXP7"
      }
    },
    {
      "cell_type": "code",
      "source": [
        "def relu(x):\n",
        "  return np.maximum(0, x)\n",
        "\n",
        "def relu_d(x):\n",
        "  return x > 0\n",
        "\n",
        "def softmax(x):\n",
        "  return np.exp(x) / np.sum(np.exp(x), axis=-1, keepdims=True)\n"
      ],
      "metadata": {
        "id": "EqArr_E03R_P"
      },
      "execution_count": null,
      "outputs": []
    },
    {
      "cell_type": "markdown",
      "source": [
        "Helper Methods"
      ],
      "metadata": {
        "id": "t9ZIGXlOcNE2"
      }
    },
    {
      "cell_type": "code",
      "source": [
        "# function to initialize random weights and biases\n",
        "def init_weights(D, M, C, num_hidden_layers):\n",
        "  # calc number of weights and biases needed ...\n",
        "  w = []\n",
        "  b = []\n",
        "\n",
        "  # init 1st layer's weights\n",
        "  w.append(np.random.randn(D, M) * 0.01)\n",
        "  b.append(np.random.randn(1, M) * 0.01)\n",
        "\n",
        "  # init rest of layers\n",
        "  for i in range(1, num_hidden_layers):\n",
        "    print('loop')\n",
        "    # create layer i weights\n",
        "    w.append(np.random.randn(M, M) * 0.01)\n",
        "    b.append(np.random.randn(1, M) * 0.01)\n",
        "\n",
        "  # create the final output layer weights\n",
        "  w.append(np.random.randn(M, C) * 0.01)\n",
        "  b.append(np.random.randn(1, C) * 0.01)\n",
        "\n",
        "  return w, b\n",
        "\n",
        "# function to one hot encode labels\n",
        "def one_hot(y):\n",
        "  y_hot = np.zeros((y.size, 11))\n",
        "  y_hot[np.arange(y.size), y] = 1\n",
        "  return y_hot\n",
        "\n",
        "# forward prop\n",
        "def forward(x, w, b, activation_function):\n",
        "  # create vectors for pre-activations, and activations\n",
        "  z = []\n",
        "  a = []\n",
        "\n",
        "  # let z0 = none\n",
        "  z.append(None)\n",
        "  # let a0 = x\n",
        "  a.append(x)\n",
        "\n",
        "  for i in range(0, len(w)-1):\n",
        "    # calc the pre-activation : z(i+1) = a(i) * w(i+1) + b(i+1)\n",
        "    z.append(a[i].dot(w[i]) + b[i])\n",
        "\n",
        "    # calc activation\n",
        "    a.append(activation_function(z[i+1]))\n",
        "\n",
        "  i+=1\n",
        "  # calc the output layer\n",
        "  z.append(a[i].dot(w[i]) + b[i])\n",
        "  a.append(softmax(z[i+1]))\n",
        "\n",
        "  # return the pre, and activations\n",
        "  return z, a\n",
        "\n",
        "# backward prop\n",
        "def backward(x, y, z, a, w):\n",
        "  # get dimentions\n",
        "  N = y.size\n",
        "  # one hot encode y\n",
        "  y_hot = one_hot(y)\n",
        "\n",
        "  # create gradient vector\n",
        "  dw = [0] * len(w)\n",
        "  db = [0] * len(w)\n",
        "  dz = [0] * len(w)\n",
        "\n",
        "  # get gradient of final layer\n",
        "  dz[-1] = a[-1] - y_hot\n",
        "\n",
        "  dw[-1] = a[-2].T.dot(dz[-1]) / N\n",
        "  db[-1] = np.sum(dz[-1]) / N\n",
        "\n",
        "  # get gradients of middle layers\n",
        "  for i in range(len(w)-2, -1, -1):\n",
        "    dz[i] = np.dot(dz[i+1], w[i+1].T) * relu_d(z[i+1])\n",
        "\n",
        "    dw[i] = a[i].T.dot(dz[i]) / N\n",
        "    db[i] = np.sum(dz[i]) / N\n",
        "\n",
        "  return dw, db\n",
        "\n",
        "# function to update the weight and biases\n",
        "def update_weights(w, b, dw, db, lr):\n",
        "  # update each weight and bias\n",
        "  for i in range(0, len(w)):\n",
        "    w[i] = w[i] - lr * dw[i]\n",
        "    b[i] = b[i] - lr * db[i]\n",
        "\n",
        "  # return updated weights and biases\n",
        "  return w, b\n",
        "\n",
        "# function to get the final prediction labels from the activation of the outer layer\n",
        "def get_yh_from_activation(a):\n",
        "  return np.argmax(a, 1)\n",
        "\n",
        "# function to get the accuracy of the predictions\n",
        "def eval_acc(model, dataset, w, b):\n",
        "  correct = 0\n",
        "  total = 0\n",
        "\n",
        "  for x, y in dataset:\n",
        "    x = x.numpy()\n",
        "    y = y.flatten().numpy()\n",
        "\n",
        "    # forward prop\n",
        "    z, a = forward(x, w, b, relu)\n",
        "    # get prediction classes\n",
        "    yh = get_yh_from_activation(a[-1])\n",
        "\n",
        "    total += len(yh)\n",
        "\n",
        "    correct += (yh == y).sum().item()\n",
        "\n",
        "  accuracy = correct / total * 100\n",
        "  return accuracy\n",
        "\n",
        "def compute_loss(model, dataset, w, b):\n",
        "  loss = 0\n",
        "  total = 0\n",
        "  for x, y in dataset:\n",
        "    x = x.numpy()\n",
        "    y = y.flatten().numpy()\n",
        "\n",
        "    # forward prop\n",
        "    z, a = forward(x, w, b, relu)\n",
        "    # get prediction classes\n",
        "    yh = get_yh_from_activation(a[-1])\n",
        "\n",
        "    total += len(yh)\n",
        "\n",
        "    loss += y * np.log(yh + 1e-8)\n",
        "\n",
        "\n",
        "  loss = -loss / total\n",
        "  return loss\n"
      ],
      "metadata": {
        "id": "C3CWMjDfcPB2"
      },
      "execution_count": null,
      "outputs": []
    },
    {
      "cell_type": "markdown",
      "source": [
        "## MLP Class"
      ],
      "metadata": {
        "id": "YYFRr8iCcPaB"
      }
    },
    {
      "cell_type": "code",
      "source": [
        "class MLP:\n",
        "  def __init__(self, D=784, M=256, C=11, num_hidden_layers=1, af=relu):\n",
        "    self.D = D\n",
        "    self.M = M\n",
        "    self.C = C\n",
        "    self.num_hidden_layers = num_hidden_layers\n",
        "    self.af = af\n",
        "    self.history = {\n",
        "        'loss': [],\n",
        "        'train_acc': [],\n",
        "        'val_acc': []\n",
        "    }\n",
        "\n",
        "  def fit(self, lr, epochs, train_loader=train_loader, val_loader=val_loader):\n",
        "    # init weights\n",
        "    #v, b1, w, b2 = init_weights(self.D, self.M, self.C, self.num_hidden_layers)\n",
        "    w, b = init_weights(self.D, self.M, self.C, self.num_hidden_layers)\n",
        "\n",
        "    # loop for # of epochs\n",
        "    for i in range(0, epochs):\n",
        "      y_true = []\n",
        "      y_pred = []\n",
        "\n",
        "      # loop over batches\n",
        "      for x, y in tqdm(train_loader):\n",
        "        # pre-process the data\n",
        "        x = x.numpy()\n",
        "        y = y.flatten().numpy()\n",
        "\n",
        "        # forward pass\n",
        "        z, a = forward(x, w, b, self.af)\n",
        "\n",
        "        # backward pass\n",
        "        dw, db = backward(x, y, z, a, w)\n",
        "\n",
        "        # update weights\n",
        "        w, b = update_weights(w, b, dw, db, lr)\n",
        "\n",
        "        # build up lists for performance checker\n",
        "        y_true.extend(y)\n",
        "        y_pred.extend(get_yh_from_activation(a[-1]))\n",
        "\n",
        "      # append progress to history\n",
        "      self.history['loss'].append(compute_loss(self, train_loader, w, b))\n",
        "      self.history['val_acc'].append(eval_acc(self, val_loader, w, b))\n",
        "      self.history['train_acc'].append(eval_acc(self, train_loader, w, b))\n",
        "\n",
        "      # print out progress\n",
        "      print('epoch: ', i)\n",
        "      print('train acc: ', self.history['train_acc'][-1])\n",
        "      print('val acc: ', self.history['val_acc'][-1])\n",
        "\n",
        "    # return learned weights\n",
        "    self.w = w\n",
        "    self.b = b\n",
        "    return self\n",
        "\n",
        "  def predict(self, dataset, w, b):\n",
        "    y_true = []\n",
        "    y_pred = []\n",
        "    for x, y in dataset:\n",
        "      # run forward pass\n",
        "      z, a = forward(x, w, b, self.af)\n",
        "      y_true.extend(y)\n",
        "      y_pred.extend(np.argmax(a[-1], 1))\n",
        "\n",
        "    # return y and yh\n",
        "    return y_true, y_pred\n"
      ],
      "metadata": {
        "id": "cKXfncgBb5Ci",
        "collapsed": true
      },
      "execution_count": null,
      "outputs": []
    },
    {
      "cell_type": "markdown",
      "source": [
        "# Hyper Parameter Tuning\n",
        "I will find the best learning rate by trying a few options on a MLP model with 1 hidden layer. I will use the validation set to test the performance of the model on the different learning rates."
      ],
      "metadata": {
        "id": "s1Xx0UCfUIOl"
      }
    },
    {
      "cell_type": "code",
      "source": [
        "model0 = MLP(num_hidden_layers=1)\n",
        "model1 = MLP(num_hidden_layers=1)\n",
        "model2 = MLP(num_hidden_layers=1)\n",
        "\n",
        "model0.fit(lr=0.001, epochs=10)\n",
        "model1.fit(lr=0.005, epochs=10)\n",
        "model2.fit(lr=0.01, epochs=10)"
      ],
      "metadata": {
        "colab": {
          "base_uri": "https://localhost:8080/"
        },
        "id": "ogZkjRBTUZ59",
        "outputId": "cf66a1bf-da90-4c9a-9d95-43dfea48f13d"
      },
      "execution_count": null,
      "outputs": [
        {
          "output_type": "stream",
          "name": "stderr",
          "text": [
            "100%|██████████| 541/541 [00:20<00:00, 26.98it/s]\n"
          ]
        },
        {
          "output_type": "stream",
          "name": "stdout",
          "text": [
            "epoch:  0\n",
            "train acc:  36.312606695408114\n",
            "val acc:  42.19688799876752\n"
          ]
        },
        {
          "output_type": "stream",
          "name": "stderr",
          "text": [
            "100%|██████████| 541/541 [00:16<00:00, 32.82it/s]\n"
          ]
        },
        {
          "output_type": "stream",
          "name": "stdout",
          "text": [
            "epoch:  1\n",
            "train acc:  38.86172275107781\n",
            "val acc:  44.36912648282237\n"
          ]
        },
        {
          "output_type": "stream",
          "name": "stderr",
          "text": [
            "100%|██████████| 541/541 [00:16<00:00, 32.55it/s]\n"
          ]
        },
        {
          "output_type": "stream",
          "name": "stdout",
          "text": [
            "epoch:  2\n",
            "train acc:  47.721420097798095\n",
            "val acc:  55.415190263441694\n"
          ]
        },
        {
          "output_type": "stream",
          "name": "stderr",
          "text": [
            "100%|██████████| 541/541 [00:16<00:00, 32.26it/s]\n"
          ]
        },
        {
          "output_type": "stream",
          "name": "stdout",
          "text": [
            "epoch:  3\n",
            "train acc:  58.849570324932735\n",
            "val acc:  69.18810660915113\n"
          ]
        },
        {
          "output_type": "stream",
          "name": "stderr",
          "text": [
            "100%|██████████| 541/541 [00:17<00:00, 31.39it/s]\n"
          ]
        },
        {
          "output_type": "stream",
          "name": "stdout",
          "text": [
            "epoch:  4\n",
            "train acc:  64.62197274384421\n",
            "val acc:  75.67401016792482\n"
          ]
        },
        {
          "output_type": "stream",
          "name": "stderr",
          "text": [
            "100%|██████████| 541/541 [00:16<00:00, 32.63it/s]\n"
          ]
        },
        {
          "output_type": "stream",
          "name": "stdout",
          "text": [
            "epoch:  5\n",
            "train acc:  66.5229594051098\n",
            "val acc:  78.73979356031428\n"
          ]
        },
        {
          "output_type": "stream",
          "name": "stderr",
          "text": [
            "100%|██████████| 541/541 [00:16<00:00, 33.14it/s]\n"
          ]
        },
        {
          "output_type": "stream",
          "name": "stdout",
          "text": [
            "epoch:  6\n",
            "train acc:  67.94074245536876\n",
            "val acc:  79.87983361577568\n"
          ]
        },
        {
          "output_type": "stream",
          "name": "stderr",
          "text": [
            "100%|██████████| 541/541 [00:18<00:00, 29.60it/s]\n"
          ]
        },
        {
          "output_type": "stream",
          "name": "stdout",
          "text": [
            "epoch:  7\n",
            "train acc:  69.61314776771505\n",
            "val acc:  81.42042828531814\n"
          ]
        },
        {
          "output_type": "stream",
          "name": "stderr",
          "text": [
            "100%|██████████| 541/541 [00:16<00:00, 32.73it/s]\n"
          ]
        },
        {
          "output_type": "stream",
          "name": "stdout",
          "text": [
            "epoch:  8\n",
            "train acc:  70.79656259946182\n",
            "val acc:  82.42181482052072\n"
          ]
        },
        {
          "output_type": "stream",
          "name": "stderr",
          "text": [
            "100%|██████████| 541/541 [00:16<00:00, 32.51it/s]\n"
          ]
        },
        {
          "output_type": "stream",
          "name": "stdout",
          "text": [
            "epoch:  9\n",
            "train acc:  71.60093747287405\n",
            "val acc:  83.31535972885534\n"
          ]
        },
        {
          "output_type": "stream",
          "name": "stderr",
          "text": [
            "100%|██████████| 541/541 [00:18<00:00, 29.14it/s]\n"
          ]
        },
        {
          "output_type": "stream",
          "name": "stdout",
          "text": [
            "epoch:  0\n",
            "train acc:  59.68866641590231\n",
            "val acc:  71.49899861346479\n"
          ]
        },
        {
          "output_type": "stream",
          "name": "stderr",
          "text": [
            "100%|██████████| 541/541 [00:16<00:00, 32.33it/s]\n"
          ]
        },
        {
          "output_type": "stream",
          "name": "stdout",
          "text": [
            "epoch:  1\n",
            "train acc:  71.95393651804056\n",
            "val acc:  84.65567709135726\n"
          ]
        },
        {
          "output_type": "stream",
          "name": "stderr",
          "text": [
            "100%|██████████| 541/541 [00:16<00:00, 32.72it/s]\n"
          ]
        },
        {
          "output_type": "stream",
          "name": "stdout",
          "text": [
            "epoch:  2\n",
            "train acc:  73.4816700905645\n",
            "val acc:  84.25512247727623\n"
          ]
        },
        {
          "output_type": "stream",
          "name": "stderr",
          "text": [
            "100%|██████████| 541/541 [00:16<00:00, 32.09it/s]\n"
          ]
        },
        {
          "output_type": "stream",
          "name": "stdout",
          "text": [
            "epoch:  3\n",
            "train acc:  70.73001359914355\n",
            "val acc:  80.4498536435064\n"
          ]
        },
        {
          "output_type": "stream",
          "name": "stderr",
          "text": [
            "100%|██████████| 541/541 [00:18<00:00, 29.69it/s]\n"
          ]
        },
        {
          "output_type": "stream",
          "name": "stdout",
          "text": [
            "epoch:  4\n",
            "train acc:  78.4265501576922\n",
            "val acc:  89.12340163303035\n"
          ]
        },
        {
          "output_type": "stream",
          "name": "stderr",
          "text": [
            "100%|██████████| 541/541 [00:16<00:00, 32.34it/s]\n"
          ]
        },
        {
          "output_type": "stream",
          "name": "stdout",
          "text": [
            "epoch:  5\n",
            "train acc:  77.10425045571598\n",
            "val acc:  86.27330149437682\n"
          ]
        },
        {
          "output_type": "stream",
          "name": "stderr",
          "text": [
            "100%|██████████| 541/541 [00:16<00:00, 32.39it/s]\n"
          ]
        },
        {
          "output_type": "stream",
          "name": "stdout",
          "text": [
            "epoch:  6\n",
            "train acc:  68.17221723908452\n",
            "val acc:  77.4919118779849\n"
          ]
        },
        {
          "output_type": "stream",
          "name": "stderr",
          "text": [
            "100%|██████████| 541/541 [00:18<00:00, 28.66it/s]\n"
          ]
        },
        {
          "output_type": "stream",
          "name": "stdout",
          "text": [
            "epoch:  7\n",
            "train acc:  80.55611816787709\n",
            "val acc:  90.14019411492836\n"
          ]
        },
        {
          "output_type": "stream",
          "name": "stderr",
          "text": [
            "100%|██████████| 541/541 [00:16<00:00, 32.01it/s]\n"
          ]
        },
        {
          "output_type": "stream",
          "name": "stdout",
          "text": [
            "epoch:  8\n",
            "train acc:  82.77538265675183\n",
            "val acc:  90.87967955630873\n"
          ]
        },
        {
          "output_type": "stream",
          "name": "stderr",
          "text": [
            "100%|██████████| 541/541 [00:16<00:00, 32.27it/s]\n"
          ]
        },
        {
          "output_type": "stream",
          "name": "stdout",
          "text": [
            "epoch:  9\n",
            "train acc:  83.17178322386505\n",
            "val acc:  90.58696656909568\n"
          ]
        },
        {
          "output_type": "stream",
          "name": "stderr",
          "text": [
            "100%|██████████| 541/541 [00:18<00:00, 29.79it/s]\n"
          ]
        },
        {
          "output_type": "stream",
          "name": "stdout",
          "text": [
            "epoch:  0\n",
            "train acc:  71.20164347096438\n",
            "val acc:  81.91341857957171\n"
          ]
        },
        {
          "output_type": "stream",
          "name": "stderr",
          "text": [
            "100%|██████████| 541/541 [00:17<00:00, 31.35it/s]\n"
          ]
        },
        {
          "output_type": "stream",
          "name": "stdout",
          "text": [
            "epoch:  1\n",
            "train acc:  76.18124475564943\n",
            "val acc:  87.61361885687874\n"
          ]
        },
        {
          "output_type": "stream",
          "name": "stderr",
          "text": [
            "100%|██████████| 541/541 [00:16<00:00, 32.07it/s]\n"
          ]
        },
        {
          "output_type": "stream",
          "name": "stdout",
          "text": [
            "epoch:  2\n",
            "train acc:  78.61462341946124\n",
            "val acc:  88.35310429825913\n"
          ]
        },
        {
          "output_type": "stream",
          "name": "stderr",
          "text": [
            "100%|██████████| 541/541 [00:17<00:00, 31.02it/s]\n"
          ]
        },
        {
          "output_type": "stream",
          "name": "stdout",
          "text": [
            "epoch:  3\n",
            "train acc:  72.62810682561268\n",
            "val acc:  79.29440764134957\n"
          ]
        },
        {
          "output_type": "stream",
          "name": "stderr",
          "text": [
            "100%|██████████| 541/541 [00:17<00:00, 31.29it/s]\n"
          ]
        },
        {
          "output_type": "stream",
          "name": "stdout",
          "text": [
            "epoch:  4\n",
            "train acc:  83.71574896559706\n",
            "val acc:  91.15698659682637\n"
          ]
        },
        {
          "output_type": "stream",
          "name": "stderr",
          "text": [
            "100%|██████████| 541/541 [00:17<00:00, 31.73it/s]\n"
          ]
        },
        {
          "output_type": "stream",
          "name": "stdout",
          "text": [
            "epoch:  5\n",
            "train acc:  79.21935129191864\n",
            "val acc:  88.56878755199506\n"
          ]
        },
        {
          "output_type": "stream",
          "name": "stderr",
          "text": [
            "100%|██████████| 541/541 [00:17<00:00, 31.01it/s]\n"
          ]
        },
        {
          "output_type": "stream",
          "name": "stdout",
          "text": [
            "epoch:  6\n",
            "train acc:  86.02760336795811\n",
            "val acc:  91.3572639038669\n"
          ]
        },
        {
          "output_type": "stream",
          "name": "stderr",
          "text": [
            "100%|██████████| 541/541 [00:17<00:00, 31.54it/s]\n"
          ]
        },
        {
          "output_type": "stream",
          "name": "stdout",
          "text": [
            "epoch:  7\n",
            "train acc:  86.79725702381297\n",
            "val acc:  90.83346171622246\n"
          ]
        },
        {
          "output_type": "stream",
          "name": "stderr",
          "text": [
            "100%|██████████| 541/541 [00:16<00:00, 32.86it/s]\n"
          ]
        },
        {
          "output_type": "stream",
          "name": "stdout",
          "text": [
            "epoch:  8\n",
            "train acc:  88.34813807470849\n",
            "val acc:  90.8642736096133\n"
          ]
        },
        {
          "output_type": "stream",
          "name": "stderr",
          "text": [
            "100%|██████████| 541/541 [00:17<00:00, 31.44it/s]\n"
          ]
        },
        {
          "output_type": "stream",
          "name": "stdout",
          "text": [
            "epoch:  9\n",
            "train acc:  80.7846995167964\n",
            "val acc:  89.12340163303035\n"
          ]
        },
        {
          "output_type": "execute_result",
          "data": {
            "text/plain": [
              "<__main__.MLP at 0x7c3eecde0ca0>"
            ]
          },
          "metadata": {},
          "execution_count": 46
        }
      ]
    },
    {
      "cell_type": "markdown",
      "source": [
        "#plot the results"
      ],
      "metadata": {
        "id": "3AgwBN6DbszN"
      }
    },
    {
      "cell_type": "markdown",
      "source": [
        "train accuracy"
      ],
      "metadata": {
        "id": "vuVMQLhNcJqL"
      }
    },
    {
      "cell_type": "code",
      "source": [
        "plt.plot(model0.history['train_acc'])\n",
        "plt.plot(model1.history['train_acc'])\n",
        "plt.plot(model2.history['train_acc'])\n",
        "plt.title('compare learning rate train accuracy')\n",
        "plt.ylabel('accuracy')\n",
        "plt.xlabel('epoch')\n",
        "plt.legend(['lr = 0.001', 'lr = 0.005', 'lr = 0.01'], loc='upper right')\n",
        "\n",
        "plt.show()\n",
        "\n",
        "print(\"final train accuracy for lr = 0.001: \", model0.history['train_acc'][-1])\n",
        "print(\"final train accuracy for lr = 0.005: \", model1.history['train_acc'][-1])\n",
        "print(\"final train accuracy for lr = 0.01: \", model2.history['train_acc'][-1])"
      ],
      "metadata": {
        "colab": {
          "base_uri": "https://localhost:8080/",
          "height": 527
        },
        "id": "66MxMozNbuDG",
        "outputId": "d073186c-821b-4e29-be54-100991e45a6b"
      },
      "execution_count": null,
      "outputs": [
        {
          "output_type": "display_data",
          "data": {
            "text/plain": [
              "<Figure size 640x480 with 1 Axes>"
            ],
            "image/png": "[encoded data removed]"
          },
          "metadata": {}
        },
        {
          "output_type": "stream",
          "name": "stdout",
          "text": [
            "final train accuracy for lr = 0.001:  71.60093747287405\n",
            "final train accuracy for lr = 0.005:  83.17178322386505\n",
            "final train accuracy for lr = 0.01:  80.7846995167964\n"
          ]
        }
      ]
    },
    {
      "cell_type": "markdown",
      "source": [
        "validation accuracy"
      ],
      "metadata": {
        "id": "W0DoV3yEikeJ"
      }
    },
    {
      "cell_type": "code",
      "source": [
        "plt.plot(model0.history['val_acc'])\n",
        "plt.plot(model1.history['val_acc'])\n",
        "plt.plot(model2.history['val_acc'])\n",
        "plt.title('compare learning rate validation accuracy')\n",
        "plt.ylabel('accuracy')\n",
        "plt.xlabel('epoch')\n",
        "plt.legend(['lr = 0.001', 'lr = 0.005', 'lr = 0.01'], loc='upper right')\n",
        "\n",
        "plt.show()\n",
        "\n",
        "print(\"final validation accuracy for lr = 0.001: \", model0.history['val_acc'][-1])\n",
        "print(\"final validation accuracy for lr = 0.005: \", model1.history['val_acc'][-1])\n",
        "print(\"final validation accuracy for lr = 0.01: \", model2.history['val_acc'][-1])"
      ],
      "metadata": {
        "colab": {
          "base_uri": "https://localhost:8080/",
          "height": 527
        },
        "id": "RDQZwBOIiorV",
        "outputId": "4ad57886-6f87-4739-f052-fe8e021fb378"
      },
      "execution_count": null,
      "outputs": [
        {
          "output_type": "display_data",
          "data": {
            "text/plain": [
              "<Figure size 640x480 with 1 Axes>"
            ],
            "image/png": "[encoded data removed]"
          },
          "metadata": {}
        },
        {
          "output_type": "stream",
          "name": "stdout",
          "text": [
            "final validation accuracy for lr = 0.001:  83.31535972885534\n",
            "final validation accuracy for lr = 0.005:  90.58696656909568\n",
            "final validation accuracy for lr = 0.01:  89.12340163303035\n"
          ]
        }
      ]
    },
    {
      "cell_type": "markdown",
      "source": [
        "loss"
      ],
      "metadata": {
        "id": "P5lW-SRFjO-Z"
      }
    },
    {
      "cell_type": "markdown",
      "source": [
        "As seen in the plots, the model with lr = 0.005 performed the best, so going forward I will be using a lr of 0.005"
      ],
      "metadata": {
        "id": "ct1M4IL-jJnK"
      }
    },
    {
      "cell_type": "markdown",
      "source": [
        "# Experiment 1\n",
        "create 3 models with 0, 1 and 2 hidden layers respectivly."
      ],
      "metadata": {
        "id": "E0H46tN9uIiZ"
      }
    },
    {
      "cell_type": "code",
      "source": [
        "# create 3 models:\n",
        "model0 = MLP(num_hidden_layers=0)\n",
        "model1 = MLP(num_hidden_layers=1)\n",
        "model2 = MLP(num_hidden_layers=2)\n",
        "\n",
        "# train the models\n",
        "model0.fit(lr=0.005, epochs=25)\n",
        "model1.fit(lr=0.005, epochs=25)\n",
        "model2.fit(lr=0.005, epochs=25)\n",
        "\n",
        "\n"
      ],
      "metadata": {
        "colab": {
          "base_uri": "https://localhost:8080/"
        },
        "collapsed": true,
        "id": "81ax4nMTuLES",
        "outputId": "e573bef4-9a8c-4eef-d17c-73c582d78945"
      },
      "execution_count": null,
      "outputs": [
        {
          "metadata": {
            "tags": null
          },
          "name": "stderr",
          "output_type": "stream",
          "text": [
            "100%|██████████| 541/541 [00:16<00:00, 32.31it/s]\n"
          ]
        },
        {
          "metadata": {
            "tags": null
          },
          "name": "stdout",
          "output_type": "stream",
          "text": [
            "epoch:  0\n",
            "train acc:  56.52324874858945\n",
            "val acc:  67.77075951317208\n"
          ]
        },
        {
          "metadata": {
            "tags": null
          },
          "name": "stderr",
          "output_type": "stream",
          "text": [
            "100%|██████████| 541/541 [00:16<00:00, 32.41it/s]\n"
          ]
        },
        {
          "metadata": {
            "tags": null
          },
          "name": "stdout",
          "output_type": "stream",
          "text": [
            "epoch:  1\n",
            "train acc:  70.24970342293337\n",
            "val acc:  82.63749807425667\n"
          ]
        },
        {
          "metadata": {
            "tags": null
          },
          "name": "stderr",
          "output_type": "stream",
          "text": [
            "100%|██████████| 541/541 [00:18<00:00, 29.33it/s]\n"
          ]
        },
        {
          "metadata": {
            "tags": null
          },
          "name": "stdout",
          "output_type": "stream",
          "text": [
            "epoch:  2\n",
            "train acc:  73.32253117675992\n",
            "val acc:  84.33215221075335\n"
          ]
        },
        {
          "metadata": {
            "tags": null
          },
          "name": "stderr",
          "output_type": "stream",
          "text": [
            "100%|██████████| 541/541 [00:16<00:00, 32.65it/s]\n"
          ]
        },
        {
          "metadata": {
            "tags": null
          },
          "name": "stdout",
          "output_type": "stream",
          "text": [
            "epoch:  3\n",
            "train acc:  75.18879662046815\n",
            "val acc:  86.72007394854414\n"
          ]
        },
        {
          "metadata": {
            "tags": null
          },
          "name": "stderr",
          "output_type": "stream",
          "text": [
            "100%|██████████| 541/541 [00:16<00:00, 32.35it/s]\n"
          ]
        },
        {
          "metadata": {
            "tags": null
          },
          "name": "stdout",
          "output_type": "stream",
          "text": [
            "epoch:  4\n",
            "train acc:  78.07065767772923\n",
            "val acc:  88.784470805731\n"
          ]
        },
        {
          "metadata": {
            "tags": null
          },
          "name": "stderr",
          "output_type": "stream",
          "text": [
            "100%|██████████| 541/541 [00:16<00:00, 32.64it/s]\n"
          ]
        },
        {
          "metadata": {
            "tags": null
          },
          "name": "stdout",
          "output_type": "stream",
          "text": [
            "epoch:  5\n",
            "train acc:  76.11180232053471\n",
            "val acc:  86.42736096133108\n"
          ]
        },
        {
          "metadata": {
            "tags": null
          },
          "name": "stderr",
          "output_type": "stream",
          "text": [
            "100%|██████████| 541/541 [00:18<00:00, 29.36it/s]\n"
          ]
        },
        {
          "metadata": {
            "tags": null
          },
          "name": "stdout",
          "output_type": "stream",
          "text": [
            "epoch:  6\n",
            "train acc:  76.81201354127485\n",
            "val acc:  85.65706362655985\n"
          ]
        },
        {
          "metadata": {
            "tags": null
          },
          "name": "stderr",
          "output_type": "stream",
          "text": [
            "100%|██████████| 541/541 [00:16<00:00, 32.72it/s]\n"
          ]
        },
        {
          "metadata": {
            "tags": null
          },
          "name": "stdout",
          "output_type": "stream",
          "text": [
            "epoch:  7\n",
            "train acc:  81.80897543473857\n",
            "val acc:  90.925897396395\n"
          ]
        },
        {
          "metadata": {
            "tags": null
          },
          "name": "stderr",
          "output_type": "stream",
          "text": [
            "100%|██████████| 541/541 [00:16<00:00, 32.26it/s]\n"
          ]
        },
        {
          "metadata": {
            "tags": null
          },
          "name": "stdout",
          "output_type": "stream",
          "text": [
            "epoch:  8\n",
            "train acc:  82.34715430687768\n",
            "val acc:  90.64859035587737\n"
          ]
        },
        {
          "metadata": {
            "tags": null
          },
          "name": "stderr",
          "output_type": "stream",
          "text": [
            "100%|██████████| 541/541 [00:17<00:00, 30.76it/s]\n"
          ]
        },
        {
          "metadata": {
            "tags": null
          },
          "name": "stdout",
          "output_type": "stream",
          "text": [
            "epoch:  9\n",
            "train acc:  82.52365382946095\n",
            "val acc:  90.43290710214143\n"
          ]
        },
        {
          "metadata": {
            "tags": null
          },
          "name": "stderr",
          "output_type": "stream",
          "text": [
            "100%|██████████| 541/541 [00:16<00:00, 32.11it/s]\n"
          ]
        },
        {
          "metadata": {
            "tags": null
          },
          "name": "stdout",
          "output_type": "stream",
          "text": [
            "epoch:  10\n",
            "train acc:  83.34249587685541\n",
            "val acc:  90.417501155446\n"
          ]
        },
        {
          "metadata": {
            "tags": null
          },
          "name": "stderr",
          "output_type": "stream",
          "text": [
            "100%|██████████| 541/541 [00:16<00:00, 33.00it/s]\n"
          ]
        },
        {
          "metadata": {
            "tags": null
          },
          "name": "stdout",
          "output_type": "stream",
          "text": [
            "epoch:  11\n",
            "train acc:  84.32626370764736\n",
            "val acc:  90.83346171622246\n"
          ]
        },
        {
          "metadata": {
            "tags": null
          },
          "name": "stderr",
          "output_type": "stream",
          "text": [
            "100%|██████████| 541/541 [00:16<00:00, 33.17it/s]\n"
          ]
        },
        {
          "metadata": {
            "tags": null
          },
          "name": "stdout",
          "output_type": "stream",
          "text": [
            "epoch:  12\n",
            "train acc:  84.47961575185903\n",
            "val acc:  91.1723925435218\n"
          ]
        },
        {
          "metadata": {
            "tags": null
          },
          "name": "stderr",
          "output_type": "stream",
          "text": [
            "100%|██████████| 541/541 [00:16<00:00, 32.53it/s]\n"
          ]
        },
        {
          "metadata": {
            "tags": null
          },
          "name": "stdout",
          "output_type": "stream",
          "text": [
            "epoch:  13\n",
            "train acc:  86.08836549868349\n",
            "val acc:  91.2340163303035\n"
          ]
        },
        {
          "metadata": {
            "tags": null
          },
          "name": "stderr",
          "output_type": "stream",
          "text": [
            "100%|██████████| 541/541 [00:18<00:00, 29.94it/s]\n"
          ]
        },
        {
          "metadata": {
            "tags": null
          },
          "name": "stdout",
          "output_type": "stream",
          "text": [
            "epoch:  14\n",
            "train acc:  86.8609125893348\n",
            "val acc:  91.43429363734401\n"
          ]
        },
        {
          "metadata": {
            "tags": null
          },
          "name": "stderr",
          "output_type": "stream",
          "text": [
            "100%|██████████| 541/541 [00:16<00:00, 32.93it/s]\n"
          ]
        },
        {
          "metadata": {
            "tags": null
          },
          "name": "stdout",
          "output_type": "stream",
          "text": [
            "epoch:  15\n",
            "train acc:  87.06923989467897\n",
            "val acc:  90.925897396395\n"
          ]
        },
        {
          "metadata": {
            "tags": null
          },
          "name": "stderr",
          "output_type": "stream",
          "text": [
            "100%|██████████| 541/541 [00:16<00:00, 32.47it/s]\n"
          ]
        },
        {
          "metadata": {
            "tags": null
          },
          "name": "stdout",
          "output_type": "stream",
          "text": [
            "epoch:  16\n",
            "train acc:  88.01828650791354\n",
            "val acc:  91.32645201047605\n"
          ]
        },
        {
          "metadata": {
            "tags": null
          },
          "name": "stderr",
          "output_type": "stream",
          "text": [
            "100%|██████████| 541/541 [00:16<00:00, 32.53it/s]\n"
          ]
        },
        {
          "metadata": {
            "tags": null
          },
          "name": "stdout",
          "output_type": "stream",
          "text": [
            "epoch:  17\n",
            "train acc:  88.14270420416076\n",
            "val acc:  90.61777846248653\n"
          ]
        },
        {
          "metadata": {
            "tags": null
          },
          "name": "stderr",
          "output_type": "stream",
          "text": [
            "100%|██████████| 541/541 [00:17<00:00, 31.48it/s]\n"
          ]
        },
        {
          "metadata": {
            "tags": null
          },
          "name": "stdout",
          "output_type": "stream",
          "text": [
            "epoch:  18\n",
            "train acc:  83.15442261508636\n",
            "val acc:  85.36435063934678\n"
          ]
        },
        {
          "metadata": {
            "tags": null
          },
          "name": "stderr",
          "output_type": "stream",
          "text": [
            "100%|██████████| 541/541 [00:17<00:00, 31.71it/s]\n"
          ]
        },
        {
          "metadata": {
            "tags": null
          },
          "name": "stdout",
          "output_type": "stream",
          "text": [
            "epoch:  19\n",
            "train acc:  89.74856051618877\n",
            "val acc:  91.1723925435218\n"
          ]
        },
        {
          "metadata": {
            "tags": null
          },
          "name": "stderr",
          "output_type": "stream",
          "text": [
            "100%|██████████| 541/541 [00:16<00:00, 32.84it/s]\n"
          ]
        },
        {
          "metadata": {
            "tags": null
          },
          "name": "stdout",
          "output_type": "stream",
          "text": [
            "epoch:  20\n",
            "train acc:  89.97424843031162\n",
            "val acc:  90.69480819596365\n"
          ]
        },
        {
          "metadata": {
            "tags": null
          },
          "name": "stderr",
          "output_type": "stream",
          "text": [
            "100%|██████████| 541/541 [00:16<00:00, 32.32it/s]\n"
          ]
        },
        {
          "metadata": {
            "tags": null
          },
          "name": "stdout",
          "output_type": "stream",
          "text": [
            "epoch:  21\n",
            "train acc:  90.66867278145887\n",
            "val acc:  91.20320443691264\n"
          ]
        },
        {
          "metadata": {
            "tags": null
          },
          "name": "stderr",
          "output_type": "stream",
          "text": [
            "100%|██████████| 541/541 [00:16<00:00, 32.57it/s]\n"
          ]
        },
        {
          "metadata": {
            "tags": null
          },
          "name": "stdout",
          "output_type": "stream",
          "text": [
            "epoch:  22\n",
            "train acc:  90.71496773820202\n",
            "val acc:  90.925897396395\n"
          ]
        },
        {
          "metadata": {
            "tags": null
          },
          "name": "stderr",
          "output_type": "stream",
          "text": [
            "100%|██████████| 541/541 [00:17<00:00, 30.69it/s]\n"
          ]
        },
        {
          "metadata": {
            "tags": null
          },
          "name": "stdout",
          "output_type": "stream",
          "text": [
            "epoch:  23\n",
            "train acc:  90.23176412719539\n",
            "val acc:  91.1723925435218\n"
          ]
        },
        {
          "metadata": {
            "tags": null
          },
          "name": "stderr",
          "output_type": "stream",
          "text": [
            "100%|██████████| 541/541 [00:16<00:00, 32.55it/s]\n"
          ]
        },
        {
          "metadata": {
            "tags": null
          },
          "name": "stdout",
          "output_type": "stream",
          "text": [
            "epoch:  24\n",
            "train acc:  83.57975753016406\n",
            "val acc:  81.18933908488677\n"
          ]
        },
        {
          "metadata": {
            "tags": null
          },
          "name": "stderr",
          "output_type": "stream",
          "text": [
            "100%|██████████| 541/541 [00:16<00:00, 32.52it/s]\n"
          ]
        },
        {
          "metadata": {
            "tags": null
          },
          "name": "stdout",
          "output_type": "stream",
          "text": [
            "epoch:  0\n",
            "train acc:  60.06191950464397\n",
            "val acc:  70.22030503774457\n"
          ]
        },
        {
          "metadata": {
            "tags": null
          },
          "name": "stderr",
          "output_type": "stream",
          "text": [
            "100%|██████████| 541/541 [00:16<00:00, 32.92it/s]\n"
          ]
        },
        {
          "metadata": {
            "tags": null
          },
          "name": "stdout",
          "output_type": "stream",
          "text": [
            "epoch:  1\n",
            "train acc:  70.84575099100142\n",
            "val acc:  81.8363888460946\n"
          ]
        },
        {
          "metadata": {
            "tags": null
          },
          "name": "stderr",
          "output_type": "stream",
          "text": [
            "100%|██████████| 541/541 [00:18<00:00, 29.74it/s]\n"
          ]
        },
        {
          "metadata": {
            "tags": null
          },
          "name": "stdout",
          "output_type": "stream",
          "text": [
            "epoch:  2\n",
            "train acc:  71.1350944706461\n",
            "val acc:  80.01848713603451\n"
          ]
        },
        {
          "metadata": {
            "tags": null
          },
          "name": "stderr",
          "output_type": "stream",
          "text": [
            "100%|██████████| 541/541 [00:16<00:00, 32.64it/s]\n"
          ]
        },
        {
          "metadata": {
            "tags": null
          },
          "name": "stdout",
          "output_type": "stream",
          "text": [
            "epoch:  3\n",
            "train acc:  74.89655970602702\n",
            "val acc:  84.70189493144353\n"
          ]
        },
        {
          "metadata": {
            "tags": null
          },
          "name": "stderr",
          "output_type": "stream",
          "text": [
            "100%|██████████| 541/541 [00:16<00:00, 32.32it/s]\n"
          ]
        },
        {
          "metadata": {
            "tags": null
          },
          "name": "stdout",
          "output_type": "stream",
          "text": [
            "epoch:  4\n",
            "train acc:  78.14588698243685\n",
            "val acc:  88.83068864581729\n"
          ]
        },
        {
          "metadata": {
            "tags": null
          },
          "name": "stderr",
          "output_type": "stream",
          "text": [
            "100%|██████████| 541/541 [00:16<00:00, 33.11it/s]\n"
          ]
        },
        {
          "metadata": {
            "tags": null
          },
          "name": "stdout",
          "output_type": "stream",
          "text": [
            "epoch:  5\n",
            "train acc:  79.08625329128208\n",
            "val acc:  89.07718379294408\n"
          ]
        },
        {
          "metadata": {
            "tags": null
          },
          "name": "stderr",
          "output_type": "stream",
          "text": [
            "100%|██████████| 541/541 [00:18<00:00, 29.00it/s]\n"
          ]
        },
        {
          "metadata": {
            "tags": null
          },
          "name": "stdout",
          "output_type": "stream",
          "text": [
            "epoch:  6\n",
            "train acc:  79.69676803333236\n",
            "val acc:  89.20043136650747\n"
          ]
        },
        {
          "metadata": {
            "tags": null
          },
          "name": "stderr",
          "output_type": "stream",
          "text": [
            "100%|██████████| 541/541 [00:16<00:00, 32.68it/s]\n"
          ]
        },
        {
          "metadata": {
            "tags": null
          },
          "name": "stdout",
          "output_type": "stream",
          "text": [
            "epoch:  7\n",
            "train acc:  80.50403634154104\n",
            "val acc:  90.14019411492836\n"
          ]
        },
        {
          "metadata": {
            "tags": null
          },
          "name": "stderr",
          "output_type": "stream",
          "text": [
            "100%|██████████| 541/541 [00:16<00:00, 33.30it/s]\n"
          ]
        },
        {
          "metadata": {
            "tags": null
          },
          "name": "stdout",
          "output_type": "stream",
          "text": [
            "epoch:  8\n",
            "train acc:  82.10410578397615\n",
            "val acc:  90.37128331535973\n"
          ]
        },
        {
          "metadata": {
            "tags": null
          },
          "name": "stderr",
          "output_type": "stream",
          "text": [
            "100%|██████████| 541/541 [00:16<00:00, 32.52it/s]\n"
          ]
        },
        {
          "metadata": {
            "tags": null
          },
          "name": "stdout",
          "output_type": "stream",
          "text": [
            "epoch:  9\n",
            "train acc:  82.4715720031249\n",
            "val acc:  90.50993683561856\n"
          ]
        },
        {
          "metadata": {
            "tags": null
          },
          "name": "stderr",
          "output_type": "stream",
          "text": [
            "100%|██████████| 541/541 [00:17<00:00, 30.20it/s]\n"
          ]
        },
        {
          "metadata": {
            "tags": null
          },
          "name": "stdout",
          "output_type": "stream",
          "text": [
            "epoch:  10\n",
            "train acc:  82.86797257023812\n",
            "val acc:  90.94130334309042\n"
          ]
        },
        {
          "metadata": {
            "tags": null
          },
          "name": "stderr",
          "output_type": "stream",
          "text": [
            "100%|██████████| 541/541 [00:16<00:00, 33.10it/s]\n"
          ]
        },
        {
          "metadata": {
            "tags": null
          },
          "name": "stdout",
          "output_type": "stream",
          "text": [
            "epoch:  11\n",
            "train acc:  84.88759005815804\n",
            "val acc:  91.34185795717147\n"
          ]
        },
        {
          "metadata": {
            "tags": null
          },
          "name": "stderr",
          "output_type": "stream",
          "text": [
            "100%|██████████| 541/541 [00:16<00:00, 32.95it/s]\n"
          ]
        },
        {
          "metadata": {
            "tags": null
          },
          "name": "stdout",
          "output_type": "stream",
          "text": [
            "epoch:  12\n",
            "train acc:  83.11680796273257\n",
            "val acc:  89.23124325989832\n"
          ]
        },
        {
          "metadata": {
            "tags": null
          },
          "name": "stderr",
          "output_type": "stream",
          "text": [
            "100%|██████████| 541/541 [00:16<00:00, 32.63it/s]\n"
          ]
        },
        {
          "metadata": {
            "tags": null
          },
          "name": "stdout",
          "output_type": "stream",
          "text": [
            "epoch:  13\n",
            "train acc:  85.68039119238448\n",
            "val acc:  91.18779849021722\n"
          ]
        },
        {
          "metadata": {
            "tags": null
          },
          "name": "stderr",
          "output_type": "stream",
          "text": [
            "100%|██████████| 541/541 [00:16<00:00, 32.52it/s]\n"
          ]
        },
        {
          "metadata": {
            "tags": null
          },
          "name": "stdout",
          "output_type": "stream",
          "text": [
            "epoch:  14\n",
            "train acc:  86.65837215358351\n",
            "val acc:  91.2956401170852\n"
          ]
        },
        {
          "metadata": {
            "tags": null
          },
          "name": "stderr",
          "output_type": "stream",
          "text": [
            "100%|██████████| 541/541 [00:18<00:00, 29.75it/s]\n"
          ]
        },
        {
          "metadata": {
            "tags": null
          },
          "name": "stdout",
          "output_type": "stream",
          "text": [
            "epoch:  15\n",
            "train acc:  87.40487833106681\n",
            "val acc:  91.52672931751657\n"
          ]
        },
        {
          "metadata": {
            "tags": null
          },
          "name": "stderr",
          "output_type": "stream",
          "text": [
            "100%|██████████| 541/541 [00:16<00:00, 32.67it/s]\n"
          ]
        },
        {
          "metadata": {
            "tags": null
          },
          "name": "stdout",
          "output_type": "stream",
          "text": [
            "epoch:  16\n",
            "train acc:  88.00092589913487\n",
            "val acc:  91.2956401170852\n"
          ]
        },
        {
          "metadata": {
            "tags": null
          },
          "name": "stderr",
          "output_type": "stream",
          "text": [
            "100%|██████████| 541/541 [00:16<00:00, 32.53it/s]\n"
          ]
        },
        {
          "metadata": {
            "tags": null
          },
          "name": "stdout",
          "output_type": "stream",
          "text": [
            "epoch:  17\n",
            "train acc:  87.78970515899425\n",
            "val acc:  91.24942227699893\n"
          ]
        },
        {
          "metadata": {
            "tags": null
          },
          "name": "stderr",
          "output_type": "stream",
          "text": [
            "100%|██████████| 541/541 [00:16<00:00, 32.53it/s]\n"
          ]
        },
        {
          "metadata": {
            "tags": null
          },
          "name": "stdout",
          "output_type": "stream",
          "text": [
            "epoch:  18\n",
            "train acc:  88.88342351205115\n",
            "val acc:  91.07995686334925\n"
          ]
        },
        {
          "metadata": {
            "tags": null
          },
          "name": "stderr",
          "output_type": "stream",
          "text": [
            "100%|██████████| 541/541 [00:18<00:00, 29.49it/s]\n"
          ]
        },
        {
          "metadata": {
            "tags": null
          },
          "name": "stdout",
          "output_type": "stream",
          "text": [
            "epoch:  19\n",
            "train acc:  84.80368044906108\n",
            "val acc:  86.65845016176243\n"
          ]
        },
        {
          "metadata": {
            "tags": null
          },
          "name": "stderr",
          "output_type": "stream",
          "text": [
            "100%|██████████| 541/541 [00:16<00:00, 31.99it/s]\n"
          ]
        },
        {
          "metadata": {
            "tags": null
          },
          "name": "stdout",
          "output_type": "stream",
          "text": [
            "epoch:  20\n",
            "train acc:  89.27693064436792\n",
            "val acc:  91.38807579725774\n"
          ]
        },
        {
          "metadata": {
            "tags": null
          },
          "name": "stderr",
          "output_type": "stream",
          "text": [
            "100%|██████████| 541/541 [00:16<00:00, 32.37it/s]\n"
          ]
        },
        {
          "metadata": {
            "tags": null
          },
          "name": "stdout",
          "output_type": "stream",
          "text": [
            "epoch:  21\n",
            "train acc:  86.81461763259165\n",
            "val acc:  87.259282082884\n"
          ]
        },
        {
          "metadata": {
            "tags": null
          },
          "name": "stderr",
          "output_type": "stream",
          "text": [
            "100%|██████████| 541/541 [00:16<00:00, 31.95it/s]\n"
          ]
        },
        {
          "metadata": {
            "tags": null
          },
          "name": "stdout",
          "output_type": "stream",
          "text": [
            "epoch:  22\n",
            "train acc:  90.92618847834264\n",
            "val acc:  91.07995686334925\n"
          ]
        },
        {
          "metadata": {
            "tags": null
          },
          "name": "stderr",
          "output_type": "stream",
          "text": [
            "100%|██████████| 541/541 [00:18<00:00, 29.78it/s]\n"
          ]
        },
        {
          "metadata": {
            "tags": null
          },
          "name": "stdout",
          "output_type": "stream",
          "text": [
            "epoch:  23\n",
            "train acc:  91.54538352478227\n",
            "val acc:  90.98752118317671\n"
          ]
        },
        {
          "metadata": {
            "tags": null
          },
          "name": "stderr",
          "output_type": "stream",
          "text": [
            "100%|██████████| 541/541 [00:16<00:00, 31.89it/s]\n"
          ]
        },
        {
          "metadata": {
            "tags": null
          },
          "name": "stdout",
          "output_type": "stream",
          "text": [
            "epoch:  24\n",
            "train acc:  91.46436735048175\n",
            "val acc:  91.20320443691264\n",
            "loop\n"
          ]
        },
        {
          "metadata": {
            "tags": null
          },
          "name": "stderr",
          "output_type": "stream",
          "text": [
            "100%|██████████| 541/541 [00:17<00:00, 30.12it/s]\n"
          ]
        },
        {
          "metadata": {
            "tags": null
          },
          "name": "stdout",
          "output_type": "stream",
          "text": [
            "epoch:  0\n",
            "train acc:  30.470761841381904\n",
            "val acc:  31.82868587274688\n"
          ]
        },
        {
          "metadata": {
            "tags": null
          },
          "name": "stderr",
          "output_type": "stream",
          "text": [
            "100%|██████████| 541/541 [00:19<00:00, 28.42it/s]\n"
          ]
        },
        {
          "metadata": {
            "tags": null
          },
          "name": "stdout",
          "output_type": "stream",
          "text": [
            "epoch:  1\n",
            "train acc:  41.50921558982668\n",
            "val acc:  44.769681096903405\n"
          ]
        },
        {
          "metadata": {
            "tags": null
          },
          "name": "stderr",
          "output_type": "stream",
          "text": [
            "100%|██████████| 541/541 [00:18<00:00, 29.39it/s]\n"
          ]
        },
        {
          "metadata": {
            "tags": null
          },
          "name": "stdout",
          "output_type": "stream",
          "text": [
            "epoch:  2\n",
            "train acc:  52.35091577211307\n",
            "val acc:  59.15883531042982\n"
          ]
        },
        {
          "metadata": {
            "tags": null
          },
          "name": "stderr",
          "output_type": "stream",
          "text": [
            "100%|██████████| 541/541 [00:21<00:00, 25.02it/s]\n"
          ]
        },
        {
          "metadata": {
            "tags": null
          },
          "name": "stdout",
          "output_type": "stream",
          "text": [
            "epoch:  3\n",
            "train acc:  62.064176383785195\n",
            "val acc:  72.56200893544909\n"
          ]
        },
        {
          "metadata": {
            "tags": null
          },
          "name": "stderr",
          "output_type": "stream",
          "text": [
            "100%|██████████| 541/541 [00:18<00:00, 29.71it/s]\n"
          ]
        },
        {
          "metadata": {
            "tags": null
          },
          "name": "stdout",
          "output_type": "stream",
          "text": [
            "epoch:  4\n",
            "train acc:  64.06353982812998\n",
            "val acc:  75.95131720844246\n"
          ]
        },
        {
          "metadata": {
            "tags": null
          },
          "name": "stderr",
          "output_type": "stream",
          "text": [
            "100%|██████████| 541/541 [00:17<00:00, 30.09it/s]\n"
          ]
        },
        {
          "metadata": {
            "tags": null
          },
          "name": "stdout",
          "output_type": "stream",
          "text": [
            "epoch:  5\n",
            "train acc:  69.51187754983941\n",
            "val acc:  78.07733785241103\n"
          ]
        },
        {
          "metadata": {
            "tags": null
          },
          "name": "stderr",
          "output_type": "stream",
          "text": [
            "100%|██████████| 541/541 [00:16<00:00, 31.97it/s]\n"
          ]
        },
        {
          "metadata": {
            "tags": null
          },
          "name": "stdout",
          "output_type": "stream",
          "text": [
            "epoch:  6\n",
            "train acc:  73.82888226613812\n",
            "val acc:  83.88537975658605\n"
          ]
        },
        {
          "metadata": {
            "tags": null
          },
          "name": "stderr",
          "output_type": "stream",
          "text": [
            "100%|██████████| 541/541 [00:18<00:00, 29.56it/s]\n"
          ]
        },
        {
          "metadata": {
            "tags": null
          },
          "name": "stdout",
          "output_type": "stream",
          "text": [
            "epoch:  7\n",
            "train acc:  75.77037701455399\n",
            "val acc:  85.88815282699122\n"
          ]
        },
        {
          "metadata": {
            "tags": null
          },
          "name": "stderr",
          "output_type": "stream",
          "text": [
            "100%|██████████| 541/541 [00:18<00:00, 29.56it/s]\n"
          ]
        },
        {
          "metadata": {
            "tags": null
          },
          "name": "stdout",
          "output_type": "stream",
          "text": [
            "epoch:  8\n",
            "train acc:  77.5006510228292\n",
            "val acc:  88.15282699121862\n"
          ]
        },
        {
          "metadata": {
            "tags": null
          },
          "name": "stderr",
          "output_type": "stream",
          "text": [
            "100%|██████████| 541/541 [00:20<00:00, 26.83it/s]\n"
          ]
        },
        {
          "metadata": {
            "tags": null
          },
          "name": "stdout",
          "output_type": "stream",
          "text": [
            "epoch:  9\n",
            "train acc:  78.62619715864703\n",
            "val acc:  87.99876752426437\n"
          ]
        },
        {
          "metadata": {
            "tags": null
          },
          "name": "stderr",
          "output_type": "stream",
          "text": [
            "100%|██████████| 541/541 [00:19<00:00, 27.84it/s]\n"
          ]
        },
        {
          "metadata": {
            "tags": null
          },
          "name": "stdout",
          "output_type": "stream",
          "text": [
            "epoch:  10\n",
            "train acc:  79.9022019038801\n",
            "val acc:  89.53936219380681\n"
          ]
        },
        {
          "metadata": {
            "tags": null
          },
          "name": "stderr",
          "output_type": "stream",
          "text": [
            "100%|██████████| 541/541 [00:18<00:00, 29.92it/s]\n"
          ]
        },
        {
          "metadata": {
            "tags": null
          },
          "name": "stdout",
          "output_type": "stream",
          "text": [
            "epoch:  11\n",
            "train acc:  80.87150256068979\n",
            "val acc:  89.77045139423817\n"
          ]
        },
        {
          "metadata": {
            "tags": null
          },
          "name": "stderr",
          "output_type": "stream",
          "text": [
            "100%|██████████| 541/541 [00:19<00:00, 28.31it/s]\n"
          ]
        },
        {
          "metadata": {
            "tags": null
          },
          "name": "stdout",
          "output_type": "stream",
          "text": [
            "epoch:  12\n",
            "train acc:  81.78004108677412\n",
            "val acc:  90.14019411492836\n"
          ]
        },
        {
          "metadata": {
            "tags": null
          },
          "name": "stderr",
          "output_type": "stream",
          "text": [
            "100%|██████████| 541/541 [00:17<00:00, 30.79it/s]\n"
          ]
        },
        {
          "metadata": {
            "tags": null
          },
          "name": "stdout",
          "output_type": "stream",
          "text": [
            "epoch:  13\n",
            "train acc:  82.54101443823963\n",
            "val acc:  90.64859035587737\n"
          ]
        },
        {
          "metadata": {
            "tags": null
          },
          "name": "stderr",
          "output_type": "stream",
          "text": [
            "100%|██████████| 541/541 [00:17<00:00, 30.95it/s]\n"
          ]
        },
        {
          "metadata": {
            "tags": null
          },
          "name": "stdout",
          "output_type": "stream",
          "text": [
            "epoch:  14\n",
            "train acc:  83.86331414021585\n",
            "val acc:  91.1107687567401\n"
          ]
        },
        {
          "metadata": {
            "tags": null
          },
          "name": "stderr",
          "output_type": "stream",
          "text": [
            "100%|██████████| 541/541 [00:17<00:00, 30.69it/s]\n"
          ]
        },
        {
          "metadata": {
            "tags": null
          },
          "name": "stdout",
          "output_type": "stream",
          "text": [
            "epoch:  15\n",
            "train acc:  83.0271114840427\n",
            "val acc:  89.26205515328917\n"
          ]
        },
        {
          "metadata": {
            "tags": null
          },
          "name": "stderr",
          "output_type": "stream",
          "text": [
            "100%|██████████| 541/541 [00:16<00:00, 31.94it/s]\n"
          ]
        },
        {
          "metadata": {
            "tags": null
          },
          "name": "stdout",
          "output_type": "stream",
          "text": [
            "epoch:  16\n",
            "train acc:  79.11518763924656\n",
            "val acc:  86.36573717454937\n"
          ]
        },
        {
          "metadata": {
            "tags": null
          },
          "name": "stderr",
          "output_type": "stream",
          "text": [
            "100%|██████████| 541/541 [00:17<00:00, 30.48it/s]\n"
          ]
        },
        {
          "metadata": {
            "tags": null
          },
          "name": "stdout",
          "output_type": "stream",
          "text": [
            "epoch:  17\n",
            "train acc:  74.39599548624172\n",
            "val acc:  82.20613156678478\n"
          ]
        },
        {
          "metadata": {
            "tags": null
          },
          "name": "stderr",
          "output_type": "stream",
          "text": [
            "100%|██████████| 541/541 [00:17<00:00, 30.97it/s]\n"
          ]
        },
        {
          "metadata": {
            "tags": null
          },
          "name": "stdout",
          "output_type": "stream",
          "text": [
            "epoch:  18\n",
            "train acc:  86.00156245479008\n",
            "val acc:  89.41611462024342\n"
          ]
        },
        {
          "metadata": {
            "tags": null
          },
          "name": "stderr",
          "output_type": "stream",
          "text": [
            "100%|██████████| 541/541 [00:21<00:00, 25.15it/s]\n"
          ]
        },
        {
          "metadata": {
            "tags": null
          },
          "name": "stdout",
          "output_type": "stream",
          "text": [
            "epoch:  19\n",
            "train acc:  87.96909811637394\n",
            "val acc:  91.20320443691264\n"
          ]
        },
        {
          "metadata": {
            "tags": null
          },
          "name": "stderr",
          "output_type": "stream",
          "text": [
            "100%|██████████| 541/541 [00:17<00:00, 31.64it/s]\n"
          ]
        },
        {
          "metadata": {
            "tags": null
          },
          "name": "stdout",
          "output_type": "stream",
          "text": [
            "epoch:  20\n",
            "train acc:  88.73875177222881\n",
            "val acc:  91.40348174395317\n"
          ]
        },
        {
          "metadata": {
            "tags": null
          },
          "name": "stderr",
          "output_type": "stream",
          "text": [
            "100%|██████████| 541/541 [00:17<00:00, 30.91it/s]\n"
          ]
        },
        {
          "metadata": {
            "tags": null
          },
          "name": "stdout",
          "output_type": "stream",
          "text": [
            "epoch:  21\n",
            "train acc:  89.43028268857961\n",
            "val acc:  91.37266985056232\n"
          ]
        },
        {
          "output_type": "stream",
          "name": "stderr",
          "text": [
            "100%|██████████| 541/541 [00:18<00:00, 29.41it/s]\n"
          ]
        },
        {
          "output_type": "stream",
          "name": "stdout",
          "text": [
            "epoch:  22\n",
            "train acc:  90.21151008362025\n",
            "val acc:  90.98752118317671\n"
          ]
        },
        {
          "output_type": "stream",
          "name": "stderr",
          "text": [
            "100%|██████████| 541/541 [00:18<00:00, 29.55it/s]\n"
          ]
        },
        {
          "output_type": "stream",
          "name": "stdout",
          "text": [
            "epoch:  23\n",
            "train acc:  88.09351581262116\n",
            "val acc:  89.35449083346172\n"
          ]
        },
        {
          "output_type": "stream",
          "name": "stderr",
          "text": [
            "100%|██████████| 541/541 [00:21<00:00, 25.44it/s]\n"
          ]
        },
        {
          "output_type": "stream",
          "name": "stdout",
          "text": [
            "epoch:  24\n",
            "train acc:  91.56853100315384\n",
            "val acc:  91.21861038360807\n"
          ]
        },
        {
          "output_type": "execute_result",
          "data": {
            "text/plain": [
              "<__main__.MLP at 0x7c3eec86f6d0>"
            ]
          },
          "metadata": {},
          "execution_count": 59
        }
      ]
    },
    {
      "cell_type": "markdown",
      "source": [
        "Plot the results"
      ],
      "metadata": {
        "id": "d7lv2Pgh2qs8"
      }
    },
    {
      "cell_type": "code",
      "source": [
        "plt.plot(model0.history['train_acc'])\n",
        "plt.plot(model1.history['train_acc'])\n",
        "plt.plot(model2.history['train_acc'])\n",
        "plt.title('model accuracy')\n",
        "plt.ylabel('accuracy')\n",
        "plt.xlabel('epoch')\n",
        "plt.legend(['no hidden', '1 hidden', '2 hidden'], loc='upper right')"
      ],
      "metadata": {
        "id": "cD44mNRr2kE1",
        "colab": {
          "base_uri": "https://localhost:8080/",
          "height": 490
        },
        "outputId": "736f0a81-ef37-42d2-a587-3457b6a90755"
      },
      "execution_count": null,
      "outputs": [
        {
          "output_type": "execute_result",
          "data": {
            "text/plain": [
              "<matplotlib.legend.Legend at 0x7c3eecb51ba0>"
            ]
          },
          "metadata": {},
          "execution_count": 58
        },
        {
          "output_type": "display_data",
          "data": {
            "text/plain": [
              "<Figure size 640x480 with 1 Axes>"
            ],
            "image/png": "[encoded data removed]"
          },
          "metadata": {}
        }
      ]
    }
  ]
}